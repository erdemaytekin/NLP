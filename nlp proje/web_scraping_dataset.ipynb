{
 "cells": [
  {
   "cell_type": "code",
   "execution_count": 38,
   "id": "58cf09a4-7fd1-4093-95ab-b7ae53d2b202",
   "metadata": {
    "tags": []
   },
   "outputs": [],
   "source": [
    "import pandas as pd\n",
    "import numpy as np\n",
    "from bs4 import BeautifulSoup as bs\n",
    "import requests \n",
    "import datetime\n",
    "from  IPython.display import clear_output\n",
    "\n"
   ]
  },
  {
   "cell_type": "code",
   "execution_count": 2,
   "id": "c51d301b-ff9a-41ef-b1e0-2660729a60ba",
   "metadata": {
    "tags": []
   },
   "outputs": [],
   "source": [
    "sections = [\"https://www.ensonhaber.com/ekonomi/\",\n",
    "           \"https://www.ensonhaber.com/teknoloji/\",\n",
    "           \"https://www.ensonhaber.com/otomobil/\",\n",
    "           \"https://www.ensonhaber.com/ic-haber/\"\n",
    "           ]"
   ]
  },
  {
   "cell_type": "code",
   "execution_count": 7,
   "id": "323772c9-e745-408e-9fb9-867c038a7630",
   "metadata": {
    "collapsed": true,
    "jupyter": {
     "outputs_hidden": true
    },
    "tags": []
   },
   "outputs": [
    {
     "name": "stdout",
     "output_type": "stream",
     "text": [
      "https://www.ensonhaber.com/ekonomi/1\n",
      "https://www.ensonhaber.com/ekonomi/2\n",
      "https://www.ensonhaber.com/ekonomi/3\n",
      "https://www.ensonhaber.com/ekonomi/4\n",
      "https://www.ensonhaber.com/ekonomi/5\n",
      "https://www.ensonhaber.com/ekonomi/6\n",
      "https://www.ensonhaber.com/ekonomi/7\n",
      "https://www.ensonhaber.com/ekonomi/8\n",
      "https://www.ensonhaber.com/ekonomi/9\n",
      "https://www.ensonhaber.com/ekonomi/10\n",
      "https://www.ensonhaber.com/ekonomi/11\n",
      "https://www.ensonhaber.com/ekonomi/12\n",
      "https://www.ensonhaber.com/ekonomi/13\n",
      "https://www.ensonhaber.com/ekonomi/14\n",
      "https://www.ensonhaber.com/ekonomi/15\n",
      "https://www.ensonhaber.com/ekonomi/16\n",
      "https://www.ensonhaber.com/ekonomi/17\n",
      "https://www.ensonhaber.com/ekonomi/18\n",
      "https://www.ensonhaber.com/ekonomi/19\n",
      "https://www.ensonhaber.com/ekonomi/20\n",
      "https://www.ensonhaber.com/ekonomi/21\n",
      "https://www.ensonhaber.com/ekonomi/22\n",
      "https://www.ensonhaber.com/ekonomi/23\n",
      "https://www.ensonhaber.com/ekonomi/24\n",
      "https://www.ensonhaber.com/ekonomi/25\n",
      "https://www.ensonhaber.com/ekonomi/26\n",
      "https://www.ensonhaber.com/ekonomi/27\n",
      "https://www.ensonhaber.com/ekonomi/28\n",
      "https://www.ensonhaber.com/ekonomi/29\n",
      "https://www.ensonhaber.com/ekonomi/30\n",
      "https://www.ensonhaber.com/ekonomi/31\n",
      "https://www.ensonhaber.com/teknoloji/1\n",
      "https://www.ensonhaber.com/teknoloji/2\n",
      "https://www.ensonhaber.com/teknoloji/3\n",
      "https://www.ensonhaber.com/teknoloji/4\n",
      "https://www.ensonhaber.com/teknoloji/5\n",
      "https://www.ensonhaber.com/teknoloji/6\n",
      "https://www.ensonhaber.com/teknoloji/7\n",
      "https://www.ensonhaber.com/teknoloji/8\n",
      "https://www.ensonhaber.com/teknoloji/9\n",
      "https://www.ensonhaber.com/teknoloji/10\n",
      "https://www.ensonhaber.com/teknoloji/11\n",
      "https://www.ensonhaber.com/teknoloji/12\n",
      "https://www.ensonhaber.com/teknoloji/13\n",
      "https://www.ensonhaber.com/teknoloji/14\n",
      "https://www.ensonhaber.com/teknoloji/15\n",
      "https://www.ensonhaber.com/teknoloji/16\n",
      "https://www.ensonhaber.com/teknoloji/17\n",
      "https://www.ensonhaber.com/teknoloji/18\n",
      "https://www.ensonhaber.com/teknoloji/19\n",
      "https://www.ensonhaber.com/teknoloji/20\n",
      "https://www.ensonhaber.com/teknoloji/21\n",
      "https://www.ensonhaber.com/teknoloji/22\n",
      "https://www.ensonhaber.com/teknoloji/23\n",
      "https://www.ensonhaber.com/teknoloji/24\n",
      "https://www.ensonhaber.com/teknoloji/25\n",
      "https://www.ensonhaber.com/teknoloji/26\n",
      "https://www.ensonhaber.com/teknoloji/27\n",
      "https://www.ensonhaber.com/teknoloji/28\n",
      "https://www.ensonhaber.com/teknoloji/29\n",
      "https://www.ensonhaber.com/teknoloji/30\n",
      "https://www.ensonhaber.com/teknoloji/31\n",
      "https://www.ensonhaber.com/otomobil/1\n",
      "https://www.ensonhaber.com/otomobil/2\n",
      "https://www.ensonhaber.com/otomobil/3\n",
      "https://www.ensonhaber.com/otomobil/4\n",
      "https://www.ensonhaber.com/otomobil/5\n",
      "https://www.ensonhaber.com/otomobil/6\n",
      "https://www.ensonhaber.com/otomobil/7\n",
      "https://www.ensonhaber.com/otomobil/8\n",
      "https://www.ensonhaber.com/otomobil/9\n",
      "https://www.ensonhaber.com/otomobil/10\n",
      "https://www.ensonhaber.com/otomobil/11\n",
      "https://www.ensonhaber.com/otomobil/12\n",
      "https://www.ensonhaber.com/otomobil/13\n",
      "https://www.ensonhaber.com/otomobil/14\n",
      "https://www.ensonhaber.com/otomobil/15\n",
      "https://www.ensonhaber.com/otomobil/16\n",
      "https://www.ensonhaber.com/otomobil/17\n",
      "https://www.ensonhaber.com/otomobil/18\n",
      "https://www.ensonhaber.com/otomobil/19\n",
      "https://www.ensonhaber.com/otomobil/20\n",
      "https://www.ensonhaber.com/otomobil/21\n",
      "https://www.ensonhaber.com/otomobil/22\n",
      "https://www.ensonhaber.com/otomobil/23\n",
      "https://www.ensonhaber.com/otomobil/24\n",
      "https://www.ensonhaber.com/otomobil/25\n",
      "https://www.ensonhaber.com/otomobil/26\n",
      "https://www.ensonhaber.com/otomobil/27\n",
      "https://www.ensonhaber.com/otomobil/28\n",
      "https://www.ensonhaber.com/otomobil/29\n",
      "https://www.ensonhaber.com/otomobil/30\n",
      "https://www.ensonhaber.com/otomobil/31\n",
      "https://www.ensonhaber.com/ic-haber/1\n",
      "https://www.ensonhaber.com/ic-haber/2\n",
      "https://www.ensonhaber.com/ic-haber/3\n",
      "https://www.ensonhaber.com/ic-haber/4\n",
      "https://www.ensonhaber.com/ic-haber/5\n",
      "https://www.ensonhaber.com/ic-haber/6\n",
      "https://www.ensonhaber.com/ic-haber/7\n",
      "https://www.ensonhaber.com/ic-haber/8\n",
      "https://www.ensonhaber.com/ic-haber/9\n",
      "https://www.ensonhaber.com/ic-haber/10\n",
      "https://www.ensonhaber.com/ic-haber/11\n",
      "https://www.ensonhaber.com/ic-haber/12\n",
      "https://www.ensonhaber.com/ic-haber/13\n",
      "https://www.ensonhaber.com/ic-haber/14\n",
      "https://www.ensonhaber.com/ic-haber/15\n",
      "https://www.ensonhaber.com/ic-haber/16\n",
      "https://www.ensonhaber.com/ic-haber/17\n",
      "https://www.ensonhaber.com/ic-haber/18\n",
      "https://www.ensonhaber.com/ic-haber/19\n",
      "https://www.ensonhaber.com/ic-haber/20\n",
      "https://www.ensonhaber.com/ic-haber/21\n",
      "https://www.ensonhaber.com/ic-haber/22\n",
      "https://www.ensonhaber.com/ic-haber/23\n",
      "https://www.ensonhaber.com/ic-haber/24\n",
      "https://www.ensonhaber.com/ic-haber/25\n",
      "https://www.ensonhaber.com/ic-haber/26\n",
      "https://www.ensonhaber.com/ic-haber/27\n",
      "https://www.ensonhaber.com/ic-haber/28\n",
      "https://www.ensonhaber.com/ic-haber/29\n",
      "https://www.ensonhaber.com/ic-haber/30\n",
      "https://www.ensonhaber.com/ic-haber/31\n"
     ]
    }
   ],
   "source": [
    "urls = []\n",
    "#Öncelikle bir Kategori seçiyoruz.\n",
    "for section in sections:\n",
    "    #Kategorinin içerisinde sırayla 100 sayfa gezineceğiz.\n",
    "    for i in range(1,100):\n",
    "        try:\n",
    "            #Öncelikle URL'imizi oluşturuyoruz. \n",
    "            newurl = section+str(i)\n",
    "            print(newurl)\n",
    "            \n",
    "            #Url'nin içerisindeki bütün html dosyasını indiriyoruz.\n",
    "            html = requests.get(newurl).text\n",
    "            soup = bs(html, \"lxml\")\n",
    "            \n",
    "            #Bizde bütün makaleleri buradan tags adında bir değişkene topluyoruz.\n",
    "            tags = soup.findAll(\"div\", class_=\"container mt-30\")[0]\n",
    "            \n",
    "            #Sırayla bütün makalelere girip, href'in içerisindeki linki urls adlı listemize append ediyoruz.\n",
    "            for a in tags.find_all('a', href=True):\n",
    "                urls.append([section.split(\"/\")[3],a['href']])\n",
    "                \n",
    "        except IndexError:\n",
    "            break"
   ]
  },
  {
   "cell_type": "code",
   "execution_count": 24,
   "id": "404cd0c1-a1b4-49d5-a623-14a85b5094ec",
   "metadata": {
    "jupyter": {
     "source_hidden": true
    },
    "tags": []
   },
   "outputs": [
    {
     "data": {
      "text/plain": [
       "['teknoloji',\n",
       " 'https://www.ensonhaber.com/teknoloji/yapay-zeka-cizdi-turkiyeden-kuraklik-manzaralari']"
      ]
     },
     "execution_count": 24,
     "metadata": {},
     "output_type": "execute_result"
    }
   ],
   "source": [
    "urls[3000] "
   ]
  },
  {
   "cell_type": "code",
   "execution_count": 25,
   "id": "44993b76-06af-41d6-8ba1-49f63c716090",
   "metadata": {
    "collapsed": true,
    "jupyter": {
     "outputs_hidden": true
    },
    "tags": []
   },
   "outputs": [
    {
     "ename": "NameError",
     "evalue": "name 'url' is not defined",
     "output_type": "error",
     "traceback": [
      "\u001b[1;31m---------------------------------------------------------------------------\u001b[0m",
      "\u001b[1;31mNameError\u001b[0m                                 Traceback (most recent call last)",
      "Cell \u001b[1;32mIn[25], line 2\u001b[0m\n\u001b[0;32m      1\u001b[0m \u001b[38;5;28;01mfor\u001b[39;00m i \u001b[38;5;129;01min\u001b[39;00m \u001b[38;5;28mrange\u001b[39m(\u001b[38;5;28mlen\u001b[39m(urls)):\n\u001b[1;32m----> 2\u001b[0m     \u001b[38;5;28mlist\u001b[39m(url[i])\n\u001b[0;32m      3\u001b[0m     urls[i][\u001b[38;5;241m1\u001b[39m] \u001b[38;5;241m=\u001b[39m \u001b[38;5;124m\"\u001b[39m\u001b[38;5;124mhttps://www.ensonhaber.com\u001b[39m\u001b[38;5;124m\"\u001b[39m \u001b[38;5;241m+\u001b[39m urls[i][\u001b[38;5;241m1\u001b[39m]\n",
      "\u001b[1;31mNameError\u001b[0m: name 'url' is not defined"
     ]
    }
   ],
   "source": [
    "for i in range(len(urls)):\n",
    "    \n",
    "    urls[i][1] = \"https://www.ensonhaber.com\" + urls[i][1]\n",
    "    "
   ]
  },
  {
   "cell_type": "code",
   "execution_count": 29,
   "id": "d58c3cef-14e3-44a9-a53d-31ea24d75609",
   "metadata": {
    "tags": []
   },
   "outputs": [
    {
     "data": {
      "text/html": [
       "<div>\n",
       "<style scoped>\n",
       "    .dataframe tbody tr th:only-of-type {\n",
       "        vertical-align: middle;\n",
       "    }\n",
       "\n",
       "    .dataframe tbody tr th {\n",
       "        vertical-align: top;\n",
       "    }\n",
       "\n",
       "    .dataframe thead th {\n",
       "        text-align: right;\n",
       "    }\n",
       "</style>\n",
       "<table border=\"1\" class=\"dataframe\">\n",
       "  <thead>\n",
       "    <tr style=\"text-align: right;\">\n",
       "      <th></th>\n",
       "      <th>Kategori</th>\n",
       "      <th>Link</th>\n",
       "    </tr>\n",
       "  </thead>\n",
       "  <tbody>\n",
       "    <tr>\n",
       "      <th>0</th>\n",
       "      <td>ekonomi</td>\n",
       "      <td>https://www.ensonhaber.com/ekonomi/moodys-turk...</td>\n",
       "    </tr>\n",
       "    <tr>\n",
       "      <th>1</th>\n",
       "      <td>ekonomi</td>\n",
       "      <td>https://www.ensonhaber.com/ekonomi/cevdet-yilm...</td>\n",
       "    </tr>\n",
       "    <tr>\n",
       "      <th>2</th>\n",
       "      <td>ekonomi</td>\n",
       "      <td>https://www.ensonhaber.com/ekonomi/cevdet-yilm...</td>\n",
       "    </tr>\n",
       "    <tr>\n",
       "      <th>3</th>\n",
       "      <td>ekonomi</td>\n",
       "      <td>https://www.ensonhaber.com/ekonomi/mersinde-ha...</td>\n",
       "    </tr>\n",
       "    <tr>\n",
       "      <th>4</th>\n",
       "      <td>ekonomi</td>\n",
       "      <td>https://www.ensonhaber.com/ekonomi/mersinde-ha...</td>\n",
       "    </tr>\n",
       "  </tbody>\n",
       "</table>\n",
       "</div>"
      ],
      "text/plain": [
       "  Kategori                                               Link\n",
       "0  ekonomi  https://www.ensonhaber.com/ekonomi/moodys-turk...\n",
       "1  ekonomi  https://www.ensonhaber.com/ekonomi/cevdet-yilm...\n",
       "2  ekonomi  https://www.ensonhaber.com/ekonomi/cevdet-yilm...\n",
       "3  ekonomi  https://www.ensonhaber.com/ekonomi/mersinde-ha...\n",
       "4  ekonomi  https://www.ensonhaber.com/ekonomi/mersinde-ha..."
      ]
     },
     "execution_count": 29,
     "metadata": {},
     "output_type": "execute_result"
    }
   ],
   "source": [
    "urldata = pd.DataFrame(urls)\n",
    "urldata.columns = [\"Kategori\",\"Link\"]\n",
    "urldata.head()"
   ]
  },
  {
   "cell_type": "code",
   "execution_count": 41,
   "id": "1ae63e05-a24a-4112-bd3e-2b4999aa55f5",
   "metadata": {
    "tags": []
   },
   "outputs": [],
   "source": [
    "urldata = urldata.drop_duplicates()"
   ]
  },
  {
   "cell_type": "code",
   "execution_count": 42,
   "id": "a0abb0b8-d730-4763-b7aa-439fdad2a33e",
   "metadata": {
    "tags": []
   },
   "outputs": [],
   "source": [
    "urldata.to_csv('urldata.csv')"
   ]
  },
  {
   "cell_type": "code",
   "execution_count": 43,
   "id": "01f278f6-a48f-43df-b46d-0ef02ba26d25",
   "metadata": {
    "tags": []
   },
   "outputs": [],
   "source": [
    "def GetData(url):\n",
    "    try:\n",
    "        #Url içerisindeki html'i indiriyoruz.\n",
    "        html = requests.get(url).text\n",
    "        soup = bs(html, \"lxml\")\n",
    "        \n",
    "        #Belirlediğimiz element'in altındaki bütün p'leri seçiyoruz.\n",
    "        body_text = soup.findAll(\"div\", class_=\"container fw-mobile\")[0].findAll('p')\n",
    "        \n",
    "        #Body_text adındaki metni tek bir string üzerinde topluyoruz.\n",
    "        body_text_big = \"\"\n",
    "        for i in body_text:\n",
    "            body_text_big = body_text_big +i.text\n",
    "        \n",
    "        #Başlığı ve zamanı'da element isimlerinden bu şekilde seçip, metinlerini alıyoruz.\n",
    "        header = soup.find(\"div\", class_=\"article-title\").text\n",
    "        \n",
    "        \n",
    "        #Özetin bulunduğu element'in metin kısmını alıyoruz.\n",
    "        summarized = soup.find(\"h2\", class_=\"articledesc\").text\n",
    "        return ((url,header,body_text_big,summarized,timestamp))\n",
    "    \n",
    "    #Link boş ise verilen hata üzerine Boş Data mesajını dönüyor.\n",
    "    except IndexError:\n",
    "        return (\"Boş Data\")\n",
    "    \n",
    "    #Eğer link haftalık özet ise özet kısmı olmadığından oraya haftalık özet yazıp, sonuçlar o şekilde dönüyor.\n",
    "    except AttributeError:\n",
    "        return ((url,header,body_text_big,\"Haftalık Özet\"))"
   ]
  },
  {
   "cell_type": "code",
   "execution_count": 89,
   "id": "0511ec48-5d80-4b03-b8da-3c24cb270044",
   "metadata": {
    "tags": []
   },
   "outputs": [
    {
     "name": "stdout",
     "output_type": "stream",
     "text": [
      "3017\n"
     ]
    }
   ],
   "source": [
    "bigdata = []\n",
    "k = 0\n",
    "for i in urldata.Link:\n",
    "    clear_output(wait=True)\n",
    "    print(k)\n",
    "    bigdata.append(GetData(i))\n",
    "    k = k + 1"
   ]
  },
  {
   "cell_type": "code",
   "execution_count": 91,
   "id": "06c4ecba-3375-4e3f-be2a-e00da10d6c92",
   "metadata": {},
   "outputs": [],
   "source": [
    "bigdatax = pd.DataFrame(bigdata)\n"
   ]
  },
  {
   "cell_type": "code",
   "execution_count": null,
   "id": "3f5b88ff-556c-4a11-b356-4e0a4b777c5d",
   "metadata": {},
   "outputs": [],
   "source": [
    "bigdatax.drop([5,6,7],axis=1,inplace=True)\n",
    "bigdatax.drop(bigdatax[bigdatax[0]==\"B\"].index,axis=0,inplace=True)\n",
    "bigdatax.columns = [\"Link\",\"Başlık\",\"Body_text\",\"Summarized_Text\",\"TimeStamp\"]\n",
    "bigdatax = bigdatax.loc[bigdatax.Link.drop_duplicates().index]\n",
    "bigdatax.index = range(0,len(bigdatax))\n",
    "bigdatax.head()"
   ]
  },
  {
   "cell_type": "code",
   "execution_count": 95,
   "id": "0631a6a2-9484-4194-b7dd-e96c781c2e2a",
   "metadata": {
    "tags": []
   },
   "outputs": [],
   "source": [
    "bigdatax.columns = [\"Link\",\"Başlık\",\"Body_text\",\"Summarized_Text\",\"TimeStamp\",\"info\",\"info_2\",\"info_3\"]"
   ]
  },
  {
   "cell_type": "code",
   "execution_count": 96,
   "id": "75db24bf-3443-41d3-9988-0ab50f2f5fca",
   "metadata": {
    "tags": []
   },
   "outputs": [
    {
     "data": {
      "text/html": [
       "<div>\n",
       "<style scoped>\n",
       "    .dataframe tbody tr th:only-of-type {\n",
       "        vertical-align: middle;\n",
       "    }\n",
       "\n",
       "    .dataframe tbody tr th {\n",
       "        vertical-align: top;\n",
       "    }\n",
       "\n",
       "    .dataframe thead th {\n",
       "        text-align: right;\n",
       "    }\n",
       "</style>\n",
       "<table border=\"1\" class=\"dataframe\">\n",
       "  <thead>\n",
       "    <tr style=\"text-align: right;\">\n",
       "      <th></th>\n",
       "      <th>Link</th>\n",
       "      <th>Başlık</th>\n",
       "      <th>Body_text</th>\n",
       "      <th>Summarized_Text</th>\n",
       "      <th>TimeStamp</th>\n",
       "      <th>info</th>\n",
       "      <th>info_2</th>\n",
       "      <th>info_3</th>\n",
       "    </tr>\n",
       "  </thead>\n",
       "  <tbody>\n",
       "    <tr>\n",
       "      <th>0</th>\n",
       "      <td>https://www.ensonhaber.com/ekonomi/moodys-turk...</td>\n",
       "      <td>\\nMoody's, Türkiye için değerlendirme yapmadı\\...</td>\n",
       "      <td>Uluslararası kredi derecelendirme kuruluşu Moo...</td>\n",
       "      <td>Haftalık Özet</td>\n",
       "      <td>None</td>\n",
       "      <td>None</td>\n",
       "      <td>None</td>\n",
       "      <td>None</td>\n",
       "    </tr>\n",
       "    <tr>\n",
       "      <th>1</th>\n",
       "      <td>https://www.ensonhaber.com/ekonomi/cevdet-yilm...</td>\n",
       "      <td>\\nCevdet Yılmaz'dan asgari ücret ve emekliye z...</td>\n",
       "      <td>\\n                    Bu videoyu izlemek için ...</td>\n",
       "      <td>Haftalık Özet</td>\n",
       "      <td>None</td>\n",
       "      <td>None</td>\n",
       "      <td>None</td>\n",
       "      <td>None</td>\n",
       "    </tr>\n",
       "    <tr>\n",
       "      <th>2</th>\n",
       "      <td>https://www.ensonhaber.com/ekonomi/mersinde-ha...</td>\n",
       "      <td>\\nMersin'de hasat başladı! Bahçede 16 lira ola...</td>\n",
       "      <td>\\n                    Bu videoyu izlemek için ...</td>\n",
       "      <td>Haftalık Özet</td>\n",
       "      <td>None</td>\n",
       "      <td>None</td>\n",
       "      <td>None</td>\n",
       "      <td>None</td>\n",
       "    </tr>\n",
       "    <tr>\n",
       "      <th>3</th>\n",
       "      <td>https://www.ensonhaber.com/ekonomi/turkiyenin-...</td>\n",
       "      <td>\\nTürkiye'nin 2022'de AB ülkeleri içindeki sat...</td>\n",
       "      <td>Türkiye İstatistik Kurumu (TÜİK), 2022 yılında...</td>\n",
       "      <td>Haftalık Özet</td>\n",
       "      <td>None</td>\n",
       "      <td>None</td>\n",
       "      <td>None</td>\n",
       "      <td>None</td>\n",
       "    </tr>\n",
       "    <tr>\n",
       "      <th>4</th>\n",
       "      <td>https://www.ensonhaber.com/ekonomi/cevdet-yilm...</td>\n",
       "      <td>\\nCevdet Yılmaz: Yılı tek haneli işsizlik raka...</td>\n",
       "      <td>\\n                    Bu videoyu izlemek için ...</td>\n",
       "      <td>Haftalık Özet</td>\n",
       "      <td>None</td>\n",
       "      <td>None</td>\n",
       "      <td>None</td>\n",
       "      <td>None</td>\n",
       "    </tr>\n",
       "  </tbody>\n",
       "</table>\n",
       "</div>"
      ],
      "text/plain": [
       "                                                Link  \\\n",
       "0  https://www.ensonhaber.com/ekonomi/moodys-turk...   \n",
       "1  https://www.ensonhaber.com/ekonomi/cevdet-yilm...   \n",
       "2  https://www.ensonhaber.com/ekonomi/mersinde-ha...   \n",
       "3  https://www.ensonhaber.com/ekonomi/turkiyenin-...   \n",
       "4  https://www.ensonhaber.com/ekonomi/cevdet-yilm...   \n",
       "\n",
       "                                              Başlık  \\\n",
       "0  \\nMoody's, Türkiye için değerlendirme yapmadı\\...   \n",
       "1  \\nCevdet Yılmaz'dan asgari ücret ve emekliye z...   \n",
       "2  \\nMersin'de hasat başladı! Bahçede 16 lira ola...   \n",
       "3  \\nTürkiye'nin 2022'de AB ülkeleri içindeki sat...   \n",
       "4  \\nCevdet Yılmaz: Yılı tek haneli işsizlik raka...   \n",
       "\n",
       "                                           Body_text Summarized_Text  \\\n",
       "0  Uluslararası kredi derecelendirme kuruluşu Moo...   Haftalık Özet   \n",
       "1  \\n                    Bu videoyu izlemek için ...   Haftalık Özet   \n",
       "2  \\n                    Bu videoyu izlemek için ...   Haftalık Özet   \n",
       "3  Türkiye İstatistik Kurumu (TÜİK), 2022 yılında...   Haftalık Özet   \n",
       "4  \\n                    Bu videoyu izlemek için ...   Haftalık Özet   \n",
       "\n",
       "  TimeStamp  info info_2 info_3  \n",
       "0      None  None   None   None  \n",
       "1      None  None   None   None  \n",
       "2      None  None   None   None  \n",
       "3      None  None   None   None  \n",
       "4      None  None   None   None  "
      ]
     },
     "execution_count": 96,
     "metadata": {},
     "output_type": "execute_result"
    }
   ],
   "source": [
    "bigdatax = bigdatax.loc[bigdatax.Link.drop_duplicates().index]\n",
    "bigdatax.index = range(0,len(bigdatax))\n",
    "bigdatax.head()"
   ]
  },
  {
   "cell_type": "code",
   "execution_count": 98,
   "id": "c49c78a0-78f9-4084-8553-3b9e19d7b409",
   "metadata": {
    "tags": []
   },
   "outputs": [],
   "source": [
    "bigdatax.drop(columns=[\"info\", \"info_2\", \"info_3\"], inplace=True)"
   ]
  },
  {
   "cell_type": "code",
   "execution_count": 105,
   "id": "dcb6a005-e10f-4871-abdc-c40feeebf811",
   "metadata": {
    "tags": []
   },
   "outputs": [],
   "source": [
    "urldata.index = range(0,len(urldata))"
   ]
  },
  {
   "cell_type": "code",
   "execution_count": 106,
   "id": "c5f86f95-f923-4b55-b82a-748080e3daa0",
   "metadata": {
    "tags": []
   },
   "outputs": [],
   "source": [
    "bigdatax[\"Kategori\"] = urldata[\"Kategori\"]"
   ]
  },
  {
   "cell_type": "code",
   "execution_count": 109,
   "id": "4d2a9688-0620-4283-a25a-0e8108e8f774",
   "metadata": {
    "tags": []
   },
   "outputs": [
    {
     "name": "stdout",
     "output_type": "stream",
     "text": [
      "<class 'pandas.core.frame.DataFrame'>\n",
      "RangeIndex: 2884 entries, 0 to 2883\n",
      "Data columns (total 6 columns):\n",
      " #   Column           Non-Null Count  Dtype \n",
      "---  ------           --------------  ----- \n",
      " 0   Link             2884 non-null   object\n",
      " 1   Başlık           2884 non-null   object\n",
      " 2   Body_text        2884 non-null   object\n",
      " 3   Summarized_Text  2884 non-null   object\n",
      " 4   TimeStamp        1 non-null      object\n",
      " 5   Kategori         2884 non-null   object\n",
      "dtypes: object(6)\n",
      "memory usage: 135.3+ KB\n"
     ]
    }
   ],
   "source": [
    "bigdatax.info()"
   ]
  },
  {
   "cell_type": "code",
   "execution_count": 110,
   "id": "3dc3d0c6-6205-4b55-a3dc-d2b3808dae4b",
   "metadata": {
    "tags": []
   },
   "outputs": [],
   "source": [
    "bigdatax.to_csv('dataset.csv')"
   ]
  },
  {
   "cell_type": "code",
   "execution_count": 3,
   "id": "4e83205f-2efe-42ff-8f2b-a8df66283925",
   "metadata": {},
   "outputs": [
    {
     "data": {
      "text/plain": [
       "str"
      ]
     },
     "execution_count": 3,
     "metadata": {},
     "output_type": "execute_result"
    }
   ],
   "source": [
    "type(\"urldata\")"
   ]
  },
  {
   "cell_type": "code",
   "execution_count": null,
   "id": "06d44e14-acdb-466a-a045-9d27739d9355",
   "metadata": {},
   "outputs": [],
   "source": []
  }
 ],
 "metadata": {
  "kernelspec": {
   "display_name": "Python 3 (ipykernel)",
   "language": "python",
   "name": "python3"
  },
  "language_info": {
   "codemirror_mode": {
    "name": "ipython",
    "version": 3
   },
   "file_extension": ".py",
   "mimetype": "text/x-python",
   "name": "python",
   "nbconvert_exporter": "python",
   "pygments_lexer": "ipython3",
   "version": "3.11.3"
  }
 },
 "nbformat": 4,
 "nbformat_minor": 5
}
